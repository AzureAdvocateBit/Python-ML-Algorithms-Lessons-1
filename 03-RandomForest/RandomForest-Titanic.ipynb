{
  "cells": [
    {
      "metadata": {
        "trusted": true
      },
      "cell_type": "code",
      "source": "# 导入pandas用于数据分析。\nimport pandas as pd\n# 利用pandas的read_csv模块直接从互联网收集泰坦尼克号乘客数据。\ntitanic = pd.read_csv('http://biostat.mc.vanderbilt.edu/wiki/pub/Main/DataSets/titanic.txt')",
      "execution_count": 1,
      "outputs": []
    },
    {
      "metadata": {
        "trusted": true
      },
      "cell_type": "code",
      "source": "# 观察一下前几行数据，可以发现，数据种类各异，数值型、类别型，甚至还有缺失数据。\ntitanic.head()",
      "execution_count": 2,
      "outputs": [
        {
          "output_type": "execute_result",
          "execution_count": 2,
          "data": {
            "text/html": "<div>\n<table border=\"1\" class=\"dataframe\">\n  <thead>\n    <tr style=\"text-align: right;\">\n      <th></th>\n      <th>row.names</th>\n      <th>pclass</th>\n      <th>survived</th>\n      <th>name</th>\n      <th>age</th>\n      <th>embarked</th>\n      <th>home.dest</th>\n      <th>room</th>\n      <th>ticket</th>\n      <th>boat</th>\n      <th>sex</th>\n    </tr>\n  </thead>\n  <tbody>\n    <tr>\n      <th>0</th>\n      <td>1</td>\n      <td>1st</td>\n      <td>1</td>\n      <td>Allen, Miss Elisabeth Walton</td>\n      <td>29.0000</td>\n      <td>Southampton</td>\n      <td>St Louis, MO</td>\n      <td>B-5</td>\n      <td>24160 L221</td>\n      <td>2</td>\n      <td>female</td>\n    </tr>\n    <tr>\n      <th>1</th>\n      <td>2</td>\n      <td>1st</td>\n      <td>0</td>\n      <td>Allison, Miss Helen Loraine</td>\n      <td>2.0000</td>\n      <td>Southampton</td>\n      <td>Montreal, PQ / Chesterville, ON</td>\n      <td>C26</td>\n      <td>NaN</td>\n      <td>NaN</td>\n      <td>female</td>\n    </tr>\n    <tr>\n      <th>2</th>\n      <td>3</td>\n      <td>1st</td>\n      <td>0</td>\n      <td>Allison, Mr Hudson Joshua Creighton</td>\n      <td>30.0000</td>\n      <td>Southampton</td>\n      <td>Montreal, PQ / Chesterville, ON</td>\n      <td>C26</td>\n      <td>NaN</td>\n      <td>(135)</td>\n      <td>male</td>\n    </tr>\n    <tr>\n      <th>3</th>\n      <td>4</td>\n      <td>1st</td>\n      <td>0</td>\n      <td>Allison, Mrs Hudson J.C. (Bessie Waldo Daniels)</td>\n      <td>25.0000</td>\n      <td>Southampton</td>\n      <td>Montreal, PQ / Chesterville, ON</td>\n      <td>C26</td>\n      <td>NaN</td>\n      <td>NaN</td>\n      <td>female</td>\n    </tr>\n    <tr>\n      <th>4</th>\n      <td>5</td>\n      <td>1st</td>\n      <td>1</td>\n      <td>Allison, Master Hudson Trevor</td>\n      <td>0.9167</td>\n      <td>Southampton</td>\n      <td>Montreal, PQ / Chesterville, ON</td>\n      <td>C22</td>\n      <td>NaN</td>\n      <td>11</td>\n      <td>male</td>\n    </tr>\n  </tbody>\n</table>\n</div>",
            "text/plain": "   row.names pclass  survived  \\\n0          1    1st         1   \n1          2    1st         0   \n2          3    1st         0   \n3          4    1st         0   \n4          5    1st         1   \n\n                                              name      age     embarked  \\\n0                     Allen, Miss Elisabeth Walton  29.0000  Southampton   \n1                      Allison, Miss Helen Loraine   2.0000  Southampton   \n2              Allison, Mr Hudson Joshua Creighton  30.0000  Southampton   \n3  Allison, Mrs Hudson J.C. (Bessie Waldo Daniels)  25.0000  Southampton   \n4                    Allison, Master Hudson Trevor   0.9167  Southampton   \n\n                         home.dest room      ticket   boat     sex  \n0                     St Louis, MO  B-5  24160 L221      2  female  \n1  Montreal, PQ / Chesterville, ON  C26         NaN    NaN  female  \n2  Montreal, PQ / Chesterville, ON  C26         NaN  (135)    male  \n3  Montreal, PQ / Chesterville, ON  C26         NaN    NaN  female  \n4  Montreal, PQ / Chesterville, ON  C22         NaN     11    male  "
          },
          "metadata": {}
        }
      ]
    },
    {
      "metadata": {},
      "cell_type": "raw",
      "source": "Pclass => 乘客等级(1/2/3等舱位)\nSurvived => 是否存活\nName => 乘客姓名\nAge => 年龄\nEmbarked => 登船港口\nHome.dest => 住址，目的地\nRoom =>房间号\nTicket => 船票信息\nBoat => 救生船\nSex => 性别"
    },
    {
      "metadata": {
        "trusted": true
      },
      "cell_type": "code",
      "source": "# 使用pandas，数据都转入pandas独有的dataframe格式（二维数据表格），直接使用info()，查看数据的统计特性。\ntitanic.info()",
      "execution_count": 3,
      "outputs": [
        {
          "output_type": "stream",
          "text": "<class 'pandas.core.frame.DataFrame'>\nRangeIndex: 1313 entries, 0 to 1312\nData columns (total 11 columns):\nrow.names    1313 non-null int64\npclass       1313 non-null object\nsurvived     1313 non-null int64\nname         1313 non-null object\nage          633 non-null float64\nembarked     821 non-null object\nhome.dest    754 non-null object\nroom         77 non-null object\nticket       69 non-null object\nboat         347 non-null object\nsex          1313 non-null object\ndtypes: float64(1), int64(2), object(8)\nmemory usage: 112.9+ KB\n",
          "name": "stdout"
        }
      ]
    },
    {
      "metadata": {
        "trusted": true
      },
      "cell_type": "code",
      "source": "# 机器学习有一个不太被初学者重视，并且耗时，但是十分重要的一环，特征的选择，这个需要基于一些背景知识。\n# 根据我们对这场事故的了解，sex, age, pclass这些都很有可能是决定幸免与否的关键因素。\nX = titanic[['pclass', 'age', 'sex']]\ny = titanic['survived']\n\n# 对当前选择的特征进行探查。\nX.info()",
      "execution_count": 4,
      "outputs": [
        {
          "output_type": "stream",
          "text": "<class 'pandas.core.frame.DataFrame'>\nRangeIndex: 1313 entries, 0 to 1312\nData columns (total 3 columns):\npclass    1313 non-null object\nage       633 non-null float64\nsex       1313 non-null object\ndtypes: float64(1), object(2)\nmemory usage: 30.9+ KB\n",
          "name": "stdout"
        }
      ]
    },
    {
      "metadata": {
        "trusted": true
      },
      "cell_type": "code",
      "source": "# 借由上面的输出，我们设计如下几个数据处理的任务：\n# 1) age这个数据列，只有633个，需要补完。\n# 2) sex 与 pclass两个数据列的值都是类别型的，需要转化为数值特征，用0/1代替。\n\n# 首先我们补充age里的数据，使用平均数或者中位数都是对模型偏离造成最小影响的策略。\n\nX['age'].fillna(X['age'].mean(), inplace=True)#采用平均数填补",
      "execution_count": 5,
      "outputs": [
        {
          "output_type": "stream",
          "text": "/home/nbuser/anaconda3_420/lib/python3.5/site-packages/pandas/core/generic.py:3295: SettingWithCopyWarning: \nA value is trying to be set on a copy of a slice from a DataFrame\n\nSee the caveats in the documentation: http://pandas.pydata.org/pandas-docs/stable/indexing.html#indexing-view-versus-copy\n  self._update_inplace(new_data)\n",
          "name": "stderr"
        }
      ]
    },
    {
      "metadata": {
        "trusted": true
      },
      "cell_type": "code",
      "source": "# 对补完的数据重新探查。\nX.info()",
      "execution_count": 6,
      "outputs": [
        {
          "output_type": "stream",
          "text": "<class 'pandas.core.frame.DataFrame'>\nRangeIndex: 1313 entries, 0 to 1312\nData columns (total 3 columns):\npclass    1313 non-null object\nage       1313 non-null float64\nsex       1313 non-null object\ndtypes: float64(1), object(2)\nmemory usage: 30.9+ KB\n",
          "name": "stdout"
        }
      ]
    },
    {
      "metadata": {
        "trusted": true
      },
      "cell_type": "code",
      "source": "# 由此得知，age特征得到了补完。\n\n# 数据分割。\nfrom sklearn.cross_validation import train_test_split\nX_train, X_test, y_train, y_test = train_test_split(X, y, test_size=0.25, random_state = 33)",
      "execution_count": 7,
      "outputs": [
        {
          "output_type": "stream",
          "text": "/home/nbuser/anaconda3_420/lib/python3.5/site-packages/sklearn/cross_validation.py:41: DeprecationWarning: This module was deprecated in version 0.18 in favor of the model_selection module into which all the refactored classes and functions are moved. Also note that the interface of the new CV iterators are different from that of this module. This module will be removed in 0.20.\n  \"This module will be removed in 0.20.\", DeprecationWarning)\n",
          "name": "stderr"
        }
      ]
    },
    {
      "metadata": {
        "trusted": true
      },
      "cell_type": "code",
      "source": "# 我们使用scikit-learn.feature_extraction中的特征转换器\nfrom sklearn.feature_extraction import DictVectorizer\nvec = DictVectorizer(sparse=False)\n\n# 转换特征后，我们发现凡是类别型的特征都单独剥离出来，独成一列特征，数值型的则保持不变。\nX_train = vec.fit_transform(X_train.to_dict(orient='record'))\nprint(vec.feature_names_)",
      "execution_count": 8,
      "outputs": [
        {
          "output_type": "stream",
          "text": "['age', 'pclass=1st', 'pclass=2nd', 'pclass=3rd', 'sex=female', 'sex=male']\n",
          "name": "stdout"
        }
      ]
    },
    {
      "metadata": {
        "trusted": true
      },
      "cell_type": "code",
      "source": "# 同样需要对测试数据的特征进行转换。\nX_test = vec.transform(X_test.to_dict(orient='record'))",
      "execution_count": 9,
      "outputs": []
    },
    {
      "metadata": {
        "trusted": true
      },
      "cell_type": "code",
      "source": "# 使用单一决策树进行模型训练以及预测分析。\n# 从sklearn.tree中导入决策树分类器。\nfrom sklearn.tree import DecisionTreeClassifier\n# 使用默认配置初始化决策树分类器。\ndtc = DecisionTreeClassifier()\n# 使用分割到的训练数据进行模型学习。\ndtc.fit(X_train, y_train)\n# 用训练好的决策树模型对测试特征数据进行预测。\ndtc_y_pred = dtc.predict(X_test)",
      "execution_count": 10,
      "outputs": []
    },
    {
      "metadata": {
        "trusted": true
      },
      "cell_type": "code",
      "source": "# 从sklearn.metrics导入classification_report。\nfrom sklearn.metrics import classification_report\n\n# 输出单一决策树在测试集上的分类准确性，以及更加详细的精确率、召回率、F1指标。\nprint('The accuracy of decision tree is', dtc.score(X_test, y_test))\nprint(classification_report(dtc_y_pred, y_test))",
      "execution_count": 11,
      "outputs": [
        {
          "output_type": "stream",
          "text": "The accuracy of decision tree is 0.7811550151975684\n             precision    recall  f1-score   support\n\n          0       0.91      0.78      0.84       236\n          1       0.58      0.80      0.67        93\n\navg / total       0.81      0.78      0.79       329\n\n",
          "name": "stdout"
        }
      ]
    },
    {
      "metadata": {
        "trusted": true
      },
      "cell_type": "code",
      "source": "# 使用随机森林分类器进行集成模型的训练以及预测分析。\nfrom sklearn.ensemble import RandomForestClassifier\n\nrfc = RandomForestClassifier()\nrfc.fit(X_train, y_train)\nrfc_y_pred = rfc.predict(X_test)",
      "execution_count": 12,
      "outputs": [
        {
          "output_type": "stream",
          "text": "/home/nbuser/anaconda3_420/lib/python3.5/site-packages/sklearn/ensemble/weight_boosting.py:29: DeprecationWarning: numpy.core.umath_tests is an internal NumPy module and should not be imported. It will be removed in a future NumPy release.\n  from numpy.core.umath_tests import inner1d\n",
          "name": "stderr"
        }
      ]
    },
    {
      "metadata": {
        "trusted": true
      },
      "cell_type": "code",
      "source": "# 输出随机森林分类器在测试集上的分类准确性，以及更加详细的精确率、召回率、F1指标。\nprint('The accuracy of random forest classifier is', rfc.score(X_test, y_test))\nprint(classification_report(rfc_y_pred, y_test))",
      "execution_count": 13,
      "outputs": [
        {
          "output_type": "stream",
          "text": "The accuracy of random forest classifier is 0.7872340425531915\n             precision    recall  f1-score   support\n\n          0       0.92      0.78      0.84       238\n          1       0.58      0.81      0.68        91\n\navg / total       0.82      0.79      0.80       329\n\n",
          "name": "stdout"
        }
      ]
    },
    {
      "metadata": {
        "trusted": false
      },
      "cell_type": "code",
      "source": "",
      "execution_count": null,
      "outputs": []
    }
  ],
  "metadata": {
    "kernelspec": {
      "name": "python3",
      "display_name": "Python 3",
      "language": "python"
    },
    "language_info": {
      "mimetype": "text/x-python",
      "nbconvert_exporter": "python",
      "name": "python",
      "file_extension": ".py",
      "version": "3.5.4",
      "pygments_lexer": "ipython3",
      "codemirror_mode": {
        "version": 3,
        "name": "ipython"
      }
    }
  },
  "nbformat": 4,
  "nbformat_minor": 2
}