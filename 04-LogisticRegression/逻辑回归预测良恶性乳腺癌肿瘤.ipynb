{
  "cells": [
    {
      "metadata": {
        "trusted": true
      },
      "cell_type": "code",
      "source": "# 导入pandas与numpy工具包。\nimport pandas as pd\nimport numpy as np\n\n# 创建特征列表。\ncolumn_names = ['Sample code number', 'Clump Thickness', 'Uniformity of Cell Size', 'Uniformity of Cell Shape', 'Marginal Adhesion', 'Single Epithelial Cell Size', 'Bare Nuclei', 'Bland Chromatin', 'Normal Nucleoli', 'Mitoses', 'Class']\n\n# 使用pandas.read_csv函数从互联网读取指定数据。\ndata = pd.read_csv('https://archive.ics.uci.edu/ml/machine-learning-databases/breast-cancer-wisconsin/breast-cancer-wisconsin.data', names = column_names )",
      "execution_count": 1,
      "outputs": []
    },
    {
      "metadata": {
        "trusted": true
      },
      "cell_type": "code",
      "source": "data.head()",
      "execution_count": 2,
      "outputs": [
        {
          "output_type": "execute_result",
          "execution_count": 2,
          "data": {
            "text/html": "<div>\n<table border=\"1\" class=\"dataframe\">\n  <thead>\n    <tr style=\"text-align: right;\">\n      <th></th>\n      <th>Sample code number</th>\n      <th>Clump Thickness</th>\n      <th>Uniformity of Cell Size</th>\n      <th>Uniformity of Cell Shape</th>\n      <th>Marginal Adhesion</th>\n      <th>Single Epithelial Cell Size</th>\n      <th>Bare Nuclei</th>\n      <th>Bland Chromatin</th>\n      <th>Normal Nucleoli</th>\n      <th>Mitoses</th>\n      <th>Class</th>\n    </tr>\n  </thead>\n  <tbody>\n    <tr>\n      <th>0</th>\n      <td>1000025</td>\n      <td>5</td>\n      <td>1</td>\n      <td>1</td>\n      <td>1</td>\n      <td>2</td>\n      <td>1</td>\n      <td>3</td>\n      <td>1</td>\n      <td>1</td>\n      <td>2</td>\n    </tr>\n    <tr>\n      <th>1</th>\n      <td>1002945</td>\n      <td>5</td>\n      <td>4</td>\n      <td>4</td>\n      <td>5</td>\n      <td>7</td>\n      <td>10</td>\n      <td>3</td>\n      <td>2</td>\n      <td>1</td>\n      <td>2</td>\n    </tr>\n    <tr>\n      <th>2</th>\n      <td>1015425</td>\n      <td>3</td>\n      <td>1</td>\n      <td>1</td>\n      <td>1</td>\n      <td>2</td>\n      <td>2</td>\n      <td>3</td>\n      <td>1</td>\n      <td>1</td>\n      <td>2</td>\n    </tr>\n    <tr>\n      <th>3</th>\n      <td>1016277</td>\n      <td>6</td>\n      <td>8</td>\n      <td>8</td>\n      <td>1</td>\n      <td>3</td>\n      <td>4</td>\n      <td>3</td>\n      <td>7</td>\n      <td>1</td>\n      <td>2</td>\n    </tr>\n    <tr>\n      <th>4</th>\n      <td>1017023</td>\n      <td>4</td>\n      <td>1</td>\n      <td>1</td>\n      <td>3</td>\n      <td>2</td>\n      <td>1</td>\n      <td>3</td>\n      <td>1</td>\n      <td>1</td>\n      <td>2</td>\n    </tr>\n  </tbody>\n</table>\n</div>",
            "text/plain": "   Sample code number  Clump Thickness  Uniformity of Cell Size  \\\n0             1000025                5                        1   \n1             1002945                5                        4   \n2             1015425                3                        1   \n3             1016277                6                        8   \n4             1017023                4                        1   \n\n   Uniformity of Cell Shape  Marginal Adhesion  Single Epithelial Cell Size  \\\n0                         1                  1                            2   \n1                         4                  5                            7   \n2                         1                  1                            2   \n3                         8                  1                            3   \n4                         1                  3                            2   \n\n  Bare Nuclei  Bland Chromatin  Normal Nucleoli  Mitoses  Class  \n0           1                3                1        1      2  \n1          10                3                2        1      2  \n2           2                3                1        1      2  \n3           4                3                7        1      2  \n4           1                3                1        1      2  "
          },
          "metadata": {}
        }
      ]
    },
    {
      "metadata": {},
      "cell_type": "raw",
      "source": "特征解释：\n\nSample code number 样本代码编号\nClump Thickness 肿块厚度\nUniformity of Cell Size 细胞大小的均匀性\nUniformity of Cell Shape 细胞形状的均匀性\nMarginal Adhesion 边缘粘\nSingle Epithelial Cell Size 单上皮细胞的大小\nBare Nuclei 裸核\nBland Chromatin 乏味染色体\nNormal Nucleoli 正常核\nMitoses 有丝分裂\n\nclass 类别 2为良性，4为恶性\n每个维度特征都是1～10之间的数字"
    },
    {
      "metadata": {
        "trusted": true
      },
      "cell_type": "code",
      "source": "# 将?替换为标准缺失值表示。\ndata = data.replace(to_replace='?', value=np.nan)\n\n# 丢弃带有缺失值的数据（只要有一个维度有缺失）。\ndata = data.dropna(how='any')\n\n# 输出data的数据量和维度。\ndata.shape",
      "execution_count": 3,
      "outputs": [
        {
          "output_type": "execute_result",
          "execution_count": 3,
          "data": {
            "text/plain": "(683, 11)"
          },
          "metadata": {}
        }
      ]
    },
    {
      "metadata": {
        "trusted": true
      },
      "cell_type": "code",
      "source": "data[column_names[1:10]].head()",
      "execution_count": 4,
      "outputs": [
        {
          "output_type": "execute_result",
          "execution_count": 4,
          "data": {
            "text/html": "<div>\n<table border=\"1\" class=\"dataframe\">\n  <thead>\n    <tr style=\"text-align: right;\">\n      <th></th>\n      <th>Clump Thickness</th>\n      <th>Uniformity of Cell Size</th>\n      <th>Uniformity of Cell Shape</th>\n      <th>Marginal Adhesion</th>\n      <th>Single Epithelial Cell Size</th>\n      <th>Bare Nuclei</th>\n      <th>Bland Chromatin</th>\n      <th>Normal Nucleoli</th>\n      <th>Mitoses</th>\n    </tr>\n  </thead>\n  <tbody>\n    <tr>\n      <th>0</th>\n      <td>5</td>\n      <td>1</td>\n      <td>1</td>\n      <td>1</td>\n      <td>2</td>\n      <td>1</td>\n      <td>3</td>\n      <td>1</td>\n      <td>1</td>\n    </tr>\n    <tr>\n      <th>1</th>\n      <td>5</td>\n      <td>4</td>\n      <td>4</td>\n      <td>5</td>\n      <td>7</td>\n      <td>10</td>\n      <td>3</td>\n      <td>2</td>\n      <td>1</td>\n    </tr>\n    <tr>\n      <th>2</th>\n      <td>3</td>\n      <td>1</td>\n      <td>1</td>\n      <td>1</td>\n      <td>2</td>\n      <td>2</td>\n      <td>3</td>\n      <td>1</td>\n      <td>1</td>\n    </tr>\n    <tr>\n      <th>3</th>\n      <td>6</td>\n      <td>8</td>\n      <td>8</td>\n      <td>1</td>\n      <td>3</td>\n      <td>4</td>\n      <td>3</td>\n      <td>7</td>\n      <td>1</td>\n    </tr>\n    <tr>\n      <th>4</th>\n      <td>4</td>\n      <td>1</td>\n      <td>1</td>\n      <td>3</td>\n      <td>2</td>\n      <td>1</td>\n      <td>3</td>\n      <td>1</td>\n      <td>1</td>\n    </tr>\n  </tbody>\n</table>\n</div>",
            "text/plain": "   Clump Thickness  Uniformity of Cell Size  Uniformity of Cell Shape  \\\n0                5                        1                         1   \n1                5                        4                         4   \n2                3                        1                         1   \n3                6                        8                         8   \n4                4                        1                         1   \n\n   Marginal Adhesion  Single Epithelial Cell Size Bare Nuclei  \\\n0                  1                            2           1   \n1                  5                            7          10   \n2                  1                            2           2   \n3                  1                            3           4   \n4                  3                            2           1   \n\n   Bland Chromatin  Normal Nucleoli  Mitoses  \n0                3                1        1  \n1                3                2        1  \n2                3                1        1  \n3                3                7        1  \n4                3                1        1  "
          },
          "metadata": {}
        }
      ]
    },
    {
      "metadata": {
        "trusted": true
      },
      "cell_type": "code",
      "source": "#683条数据  9个特征  1个id  1个分类结果",
      "execution_count": 5,
      "outputs": []
    },
    {
      "metadata": {
        "trusted": true
      },
      "cell_type": "code",
      "source": "# 使用sklearn.cross_valiation里的train_test_split模块用于分割数据。\nfrom sklearn.cross_validation import train_test_split\n\n# 随机采样25%的数据用于测试，剩下的75%用于构建训练集合。\nX_train, X_test, y_train, y_test = train_test_split(data[column_names[1:10]], #特征：第0列id去掉,第10列分类结果去掉\n                                                    data[column_names[10]],#第10列的分类结果作为目标分类变量 \n                                                    test_size=0.25, \n                                                    random_state=33)",
      "execution_count": 6,
      "outputs": [
        {
          "output_type": "stream",
          "text": "/home/nbuser/anaconda3_420/lib/python3.5/site-packages/sklearn/cross_validation.py:41: DeprecationWarning: This module was deprecated in version 0.18 in favor of the model_selection module into which all the refactored classes and functions are moved. Also note that the interface of the new CV iterators are different from that of this module. This module will be removed in 0.20.\n  \"This module will be removed in 0.20.\", DeprecationWarning)\n",
          "name": "stderr"
        }
      ]
    },
    {
      "metadata": {
        "trusted": true
      },
      "cell_type": "code",
      "source": "# 查验训练样本的数量和类别分布。\n# 即训练集中良性和恶性数量\ny_train.value_counts()",
      "execution_count": 7,
      "outputs": [
        {
          "output_type": "execute_result",
          "execution_count": 7,
          "data": {
            "text/plain": "2    344\n4    168\nName: Class, dtype: int64"
          },
          "metadata": {}
        }
      ]
    },
    {
      "metadata": {
        "trusted": true
      },
      "cell_type": "code",
      "source": "# 查验测试样本的数量和类别分布。\n# 即测试集中良性和恶性数量\ny_test.value_counts()",
      "execution_count": 8,
      "outputs": [
        {
          "output_type": "execute_result",
          "execution_count": 8,
          "data": {
            "text/plain": "2    100\n4     71\nName: Class, dtype: int64"
          },
          "metadata": {}
        }
      ]
    },
    {
      "metadata": {
        "trusted": true
      },
      "cell_type": "code",
      "source": "# 从sklearn.preprocessing里导入StandardScaler。\nfrom sklearn.preprocessing import StandardScaler\n# 从sklearn.linear_model里导入LogisticRegression\nfrom sklearn.linear_model import LogisticRegression",
      "execution_count": 9,
      "outputs": []
    },
    {
      "metadata": {
        "trusted": true
      },
      "cell_type": "code",
      "source": "# 标准化数据，保证每个维度的特征数据方差为1，均值为0。使得预测结果不会被某些维度过大的特征值而主导。\nss = StandardScaler()\nX_train = ss.fit_transform(X_train)\nX_test = ss.transform(X_test)",
      "execution_count": 10,
      "outputs": []
    },
    {
      "metadata": {
        "trusted": true
      },
      "cell_type": "code",
      "source": "# 初始化LogisticRegression\n#逻辑回归\nlr = LogisticRegression()",
      "execution_count": 11,
      "outputs": []
    },
    {
      "metadata": {
        "trusted": true
      },
      "cell_type": "code",
      "source": "# 调用LogisticRegression中的fit函数/模块用来训练模型参数。\nlr.fit(X_train, y_train)",
      "execution_count": 12,
      "outputs": [
        {
          "output_type": "execute_result",
          "execution_count": 12,
          "data": {
            "text/plain": "LogisticRegression(C=1.0, class_weight=None, dual=False, fit_intercept=True,\n          intercept_scaling=1, max_iter=100, multi_class='ovr', n_jobs=1,\n          penalty='l2', random_state=None, solver='liblinear', tol=0.0001,\n          verbose=0, warm_start=False)"
          },
          "metadata": {}
        }
      ]
    },
    {
      "metadata": {
        "trusted": true
      },
      "cell_type": "code",
      "source": "# 使用训练好的模型lr对X_test进行预测，结果储存在变量lr_y_predict中。\nlr_y_predict = lr.predict(X_test)",
      "execution_count": 13,
      "outputs": []
    },
    {
      "metadata": {
        "trusted": true
      },
      "cell_type": "code",
      "source": "# 从sklearn.metrics里导入classification_report模块。  分类报告\nfrom sklearn.metrics import classification_report",
      "execution_count": 14,
      "outputs": []
    },
    {
      "metadata": {
        "trusted": true
      },
      "cell_type": "code",
      "source": "# 使用逻辑斯蒂回归模型自带的评分函数score获得模型在测试集上的准确性结果。准确性：预测和真实值比较，预测正确的百分比，Accuracy。\nprint('Accuracy of LR Classifier:', lr.score(X_test, y_test))",
      "execution_count": 15,
      "outputs": [
        {
          "output_type": "stream",
          "text": "Accuracy of LR Classifier: 0.9883040935672515\n",
          "name": "stdout"
        }
      ]
    },
    {
      "metadata": {},
      "cell_type": "raw",
      "source": "在实际问题中，我们往往更加关注模型对某一特定类别的预测能力。这时，准确性指标就变得笼统了。\n比如，在良/恶肿瘤预测中，医生和患者往往更加关注有多少恶性肿瘤被正确地诊断出来，因为这种肿瘤更加致命。\n也就是说，在二分类任务下，预测结果和正确标记之间存在4种不同的组合，构成混淆矩阵\n如果恶性肿瘤为阳性，良性肿瘤为阴性\n预测正确的恶性肿瘤为 真阳性\n预测正确的良性肿瘤为 真阴性\n原本是良性肿瘤，预测误判成恶性肿瘤为 假阳性\n实际是恶性肿瘤，预测模型没有检测出来，为假阴性\n\n事实上，医生和患者最不愿意看到的是有假阴性的结果\n因为这种误诊回耽误治疗时间，进而危及生命！\n\n召回率（Recall）\n精确率（Precision）\n\n我们显然更关注召回率，也就是应该被正确识别的恶性肿瘤的百分比"
    },
    {
      "metadata": {
        "trusted": true
      },
      "cell_type": "code",
      "source": "# 利用classification_report模块获得LogisticRegression其他三个指标的结果。\nprint(classification_report(y_test, lr_y_predict, target_names=['Benign', 'Malignant']))\n\n#support为样本个数",
      "execution_count": 16,
      "outputs": [
        {
          "output_type": "stream",
          "text": "             precision    recall  f1-score   support\n\n     Benign       0.99      0.99      0.99       100\n  Malignant       0.99      0.99      0.99        71\n\navg / total       0.99      0.99      0.99       171\n\n",
          "name": "stdout"
        }
      ]
    },
    {
      "metadata": {
        "trusted": false
      },
      "cell_type": "code",
      "source": "",
      "execution_count": null,
      "outputs": []
    }
  ],
  "metadata": {
    "kernelspec": {
      "name": "python3",
      "display_name": "Python 3",
      "language": "python"
    },
    "language_info": {
      "mimetype": "text/x-python",
      "nbconvert_exporter": "python",
      "name": "python",
      "pygments_lexer": "ipython3",
      "version": "3.5.4",
      "file_extension": ".py",
      "codemirror_mode": {
        "version": 3,
        "name": "ipython"
      }
    }
  },
  "nbformat": 4,
  "nbformat_minor": 2
}